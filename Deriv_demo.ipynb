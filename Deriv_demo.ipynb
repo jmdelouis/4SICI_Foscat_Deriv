{
 "cells": [
  {
   "cell_type": "code",
   "execution_count": 1,
   "id": "78e32c36-766b-4ca0-a369-b74ee4a09ca8",
   "metadata": {},
   "outputs": [],
   "source": [
    "import foscat.scat_cov as sc\n",
    "import xarray as xr"
   ]
  },
  {
   "cell_type": "code",
   "execution_count": null,
   "id": "d1fa1a42-d78d-4657-9557-03bb5fc9c214",
   "metadata": {},
   "outputs": [],
   "source": []
  }
 ],
 "metadata": {
  "kernelspec": {
   "display_name": "Python 3 (ipykernel)",
   "language": "python",
   "name": "python3"
  },
  "language_info": {
   "codemirror_mode": {
    "name": "ipython",
    "version": 3
   },
   "file_extension": ".py",
   "mimetype": "text/x-python",
   "name": "python",
   "nbconvert_exporter": "python",
   "pygments_lexer": "ipython3",
   "version": "3.11.11"
  }
 },
 "nbformat": 4,
 "nbformat_minor": 5
}
